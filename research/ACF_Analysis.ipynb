{
 "cells": [
  {
   "cell_type": "markdown",
   "id": "organized-economics",
   "metadata": {},
   "source": [
    "## 1. Import Libraries"
   ]
  },
  {
   "cell_type": "code",
   "execution_count": 1,
   "id": "moved-minister",
   "metadata": {},
   "outputs": [],
   "source": [
    "import os\n",
    "from pathlib import Path\n",
    "from typing import Tuple\n",
    "\n",
    "import numpy as np\n",
    "import pandas as pd\n",
    "from scipy.stats.stats import pearsonr"
   ]
  },
  {
   "cell_type": "code",
   "execution_count": 2,
   "id": "scheduled-valve",
   "metadata": {},
   "outputs": [],
   "source": [
    "os.chdir(\"/Users/weixue/Desktop/BT4013/Project/\")\n",
    "\n",
    "from data_processing.indicators import macd, rsi, atr\n",
    "from systems.systems_util import get_futures_list\n",
    "from utils.data_loader import load_raw_data"
   ]
  },
  {
   "cell_type": "markdown",
   "id": "earned-strategy",
   "metadata": {},
   "source": [
    "## 2. Define Helper Functions"
   ]
  },
  {
   "cell_type": "code",
   "execution_count": 3,
   "id": "martial-signal",
   "metadata": {},
   "outputs": [],
   "source": [
    "def align_index(series_1, series_2) -> Tuple[pd.Series, pd.Series]:\n",
    "    \"\"\"\n",
    "    Aligns the datetime index of the two input series.\n",
    "    \"\"\"\n",
    "    union_index = series_1.index.intersection(series_2.index)\n",
    "    return series_1.loc[union_index], series_2.loc[union_index]"
   ]
  },
  {
   "cell_type": "code",
   "execution_count": 4,
   "id": "adequate-notice",
   "metadata": {},
   "outputs": [],
   "source": [
    "def compute_acf_pvalues(series: pd.Series, ticker: str):\n",
    "    \"\"\"\n",
    "    Takes in a time series and computes the p-values of its autocorrelations.\n",
    "    Returns a series of p-values with the indexes representing the number of time lags.\n",
    "    \"\"\"\n",
    "    lag_to_p_value_map = {}\n",
    "    \n",
    "    for lag in range(1, 10):\n",
    "        lagged_series = series.shift(lag).dropna()\n",
    "        lagged_series, original_series = align_index(lagged_series, series.copy())\n",
    "        p_value = pearsonr(lagged_series, original_series)[1]\n",
    "        lag_to_p_value_map[lag] = round(p_value, 3)\n",
    "        \n",
    "    correlation_series = pd.Series(lag_to_p_value_map)\n",
    "    correlation_series.name = ticker\n",
    "    \n",
    "    return correlation_series"
   ]
  },
  {
   "cell_type": "markdown",
   "id": "artificial-advancement",
   "metadata": {},
   "source": [
    "## 3. Compute ACFs of Daily Returns for Each Asset"
   ]
  },
  {
   "cell_type": "code",
   "execution_count": 5,
   "id": "tested-pierce",
   "metadata": {},
   "outputs": [],
   "source": [
    "futures_list = get_futures_list()"
   ]
  },
  {
   "cell_type": "code",
   "execution_count": 10,
   "id": "reserved-juvenile",
   "metadata": {},
   "outputs": [
    {
     "data": {
      "text/html": [
       "<div>\n",
       "<style scoped>\n",
       "    .dataframe tbody tr th:only-of-type {\n",
       "        vertical-align: middle;\n",
       "    }\n",
       "\n",
       "    .dataframe tbody tr th {\n",
       "        vertical-align: top;\n",
       "    }\n",
       "\n",
       "    .dataframe thead th {\n",
       "        text-align: right;\n",
       "    }\n",
       "</style>\n",
       "<table border=\"1\" class=\"dataframe\">\n",
       "  <thead>\n",
       "    <tr style=\"text-align: right;\">\n",
       "      <th>TIME LAG</th>\n",
       "      <th>1</th>\n",
       "      <th>2</th>\n",
       "      <th>3</th>\n",
       "      <th>4</th>\n",
       "      <th>5</th>\n",
       "      <th>6</th>\n",
       "      <th>7</th>\n",
       "      <th>8</th>\n",
       "      <th>9</th>\n",
       "    </tr>\n",
       "    <tr>\n",
       "      <th>ASSETS</th>\n",
       "      <th></th>\n",
       "      <th></th>\n",
       "      <th></th>\n",
       "      <th></th>\n",
       "      <th></th>\n",
       "      <th></th>\n",
       "      <th></th>\n",
       "      <th></th>\n",
       "      <th></th>\n",
       "    </tr>\n",
       "  </thead>\n",
       "  <tbody>\n",
       "    <tr>\n",
       "      <th>F_AD</th>\n",
       "      <td>0.040</td>\n",
       "      <td>0.586</td>\n",
       "      <td>0.015</td>\n",
       "      <td>0.078</td>\n",
       "      <td>0.044</td>\n",
       "      <td>0.031</td>\n",
       "      <td>0.276</td>\n",
       "      <td>0.306</td>\n",
       "      <td>0.536</td>\n",
       "    </tr>\n",
       "    <tr>\n",
       "      <th>F_BO</th>\n",
       "      <td>0.050</td>\n",
       "      <td>0.615</td>\n",
       "      <td>0.360</td>\n",
       "      <td>0.930</td>\n",
       "      <td>0.423</td>\n",
       "      <td>0.059</td>\n",
       "      <td>0.338</td>\n",
       "      <td>0.314</td>\n",
       "      <td>0.770</td>\n",
       "    </tr>\n",
       "    <tr>\n",
       "      <th>F_BP</th>\n",
       "      <td>0.081</td>\n",
       "      <td>0.673</td>\n",
       "      <td>0.566</td>\n",
       "      <td>0.878</td>\n",
       "      <td>0.532</td>\n",
       "      <td>0.779</td>\n",
       "      <td>0.817</td>\n",
       "      <td>0.796</td>\n",
       "      <td>0.403</td>\n",
       "    </tr>\n",
       "    <tr>\n",
       "      <th>F_C</th>\n",
       "      <td>0.007</td>\n",
       "      <td>0.062</td>\n",
       "      <td>0.819</td>\n",
       "      <td>0.577</td>\n",
       "      <td>0.349</td>\n",
       "      <td>0.053</td>\n",
       "      <td>0.958</td>\n",
       "      <td>0.987</td>\n",
       "      <td>0.055</td>\n",
       "    </tr>\n",
       "    <tr>\n",
       "      <th>F_CC</th>\n",
       "      <td>0.203</td>\n",
       "      <td>0.213</td>\n",
       "      <td>0.407</td>\n",
       "      <td>0.933</td>\n",
       "      <td>0.629</td>\n",
       "      <td>0.611</td>\n",
       "      <td>0.834</td>\n",
       "      <td>0.942</td>\n",
       "      <td>0.658</td>\n",
       "    </tr>\n",
       "    <tr>\n",
       "      <th>...</th>\n",
       "      <td>...</td>\n",
       "      <td>...</td>\n",
       "      <td>...</td>\n",
       "      <td>...</td>\n",
       "      <td>...</td>\n",
       "      <td>...</td>\n",
       "      <td>...</td>\n",
       "      <td>...</td>\n",
       "      <td>...</td>\n",
       "    </tr>\n",
       "    <tr>\n",
       "      <th>F_VF</th>\n",
       "      <td>0.478</td>\n",
       "      <td>0.400</td>\n",
       "      <td>0.026</td>\n",
       "      <td>0.223</td>\n",
       "      <td>0.963</td>\n",
       "      <td>0.132</td>\n",
       "      <td>0.220</td>\n",
       "      <td>0.845</td>\n",
       "      <td>0.759</td>\n",
       "    </tr>\n",
       "    <tr>\n",
       "      <th>F_VT</th>\n",
       "      <td>0.243</td>\n",
       "      <td>0.089</td>\n",
       "      <td>0.008</td>\n",
       "      <td>0.093</td>\n",
       "      <td>0.666</td>\n",
       "      <td>0.590</td>\n",
       "      <td>0.030</td>\n",
       "      <td>0.269</td>\n",
       "      <td>0.840</td>\n",
       "    </tr>\n",
       "    <tr>\n",
       "      <th>F_VW</th>\n",
       "      <td>0.000</td>\n",
       "      <td>0.229</td>\n",
       "      <td>0.000</td>\n",
       "      <td>0.764</td>\n",
       "      <td>0.562</td>\n",
       "      <td>0.068</td>\n",
       "      <td>0.872</td>\n",
       "      <td>0.466</td>\n",
       "      <td>0.219</td>\n",
       "    </tr>\n",
       "    <tr>\n",
       "      <th>F_GD</th>\n",
       "      <td>0.000</td>\n",
       "      <td>0.559</td>\n",
       "      <td>0.914</td>\n",
       "      <td>0.551</td>\n",
       "      <td>0.964</td>\n",
       "      <td>0.236</td>\n",
       "      <td>0.014</td>\n",
       "      <td>0.672</td>\n",
       "      <td>0.637</td>\n",
       "    </tr>\n",
       "    <tr>\n",
       "      <th>F_F</th>\n",
       "      <td>0.000</td>\n",
       "      <td>0.032</td>\n",
       "      <td>0.000</td>\n",
       "      <td>0.155</td>\n",
       "      <td>0.036</td>\n",
       "      <td>0.219</td>\n",
       "      <td>0.980</td>\n",
       "      <td>0.103</td>\n",
       "      <td>0.926</td>\n",
       "    </tr>\n",
       "  </tbody>\n",
       "</table>\n",
       "<p>88 rows × 9 columns</p>\n",
       "</div>"
      ],
      "text/plain": [
       "TIME LAG      1      2      3      4      5      6      7      8      9\n",
       "ASSETS                                                                 \n",
       "F_AD      0.040  0.586  0.015  0.078  0.044  0.031  0.276  0.306  0.536\n",
       "F_BO      0.050  0.615  0.360  0.930  0.423  0.059  0.338  0.314  0.770\n",
       "F_BP      0.081  0.673  0.566  0.878  0.532  0.779  0.817  0.796  0.403\n",
       "F_C       0.007  0.062  0.819  0.577  0.349  0.053  0.958  0.987  0.055\n",
       "F_CC      0.203  0.213  0.407  0.933  0.629  0.611  0.834  0.942  0.658\n",
       "...         ...    ...    ...    ...    ...    ...    ...    ...    ...\n",
       "F_VF      0.478  0.400  0.026  0.223  0.963  0.132  0.220  0.845  0.759\n",
       "F_VT      0.243  0.089  0.008  0.093  0.666  0.590  0.030  0.269  0.840\n",
       "F_VW      0.000  0.229  0.000  0.764  0.562  0.068  0.872  0.466  0.219\n",
       "F_GD      0.000  0.559  0.914  0.551  0.964  0.236  0.014  0.672  0.637\n",
       "F_F       0.000  0.032  0.000  0.155  0.036  0.219  0.980  0.103  0.926\n",
       "\n",
       "[88 rows x 9 columns]"
      ]
     },
     "execution_count": 10,
     "metadata": {},
     "output_type": "execute_result"
    }
   ],
   "source": [
    "result = []\n",
    "\n",
    "for ticker in futures_list:\n",
    "    data = data[:\"2020-12-31\"]\n",
    "    data = load_raw_data(ticker)\n",
    "    close_price_diff = data[\"CLOSE\"].pct_change()\n",
    "    acf_pvalues = compute_acf_pvalues(series=close_price_diff, ticker=ticker)\n",
    "    result.append(acf_pvalues)\n",
    "\n",
    "acf_pvalues_table = pd.DataFrame(result)\n",
    "acf_pvalues_table.index.name = \"ASSETS\"\n",
    "acf_pvalues_table.columns.name = \"TIME LAG\"\n",
    "\n",
    "acf_pvalues_table"
   ]
  },
  {
   "cell_type": "markdown",
   "id": "apart-speed",
   "metadata": {},
   "source": [
    "## 4. Keep Only Assets with Statistically Significant Autocorrelation"
   ]
  },
  {
   "cell_type": "code",
   "execution_count": 15,
   "id": "consecutive-banks",
   "metadata": {},
   "outputs": [
    {
     "name": "stdout",
     "output_type": "stream",
     "text": [
      "['F_AD', 'F_AH', 'F_AX', 'F_BC', 'F_C', 'F_CA', 'F_DL', 'F_DX', 'F_DZ', 'F_EB', 'F_ED', 'F_ES', 'F_F', 'F_FC', 'F_FL', 'F_FM', 'F_FY', 'F_GD', 'F_GX', 'F_HG', 'F_HP', 'F_LB', 'F_LC', 'F_LQ', 'F_LR', 'F_LU', 'F_LX', 'F_MD', 'F_NG', 'F_NQ', 'F_NR', 'F_NY', 'F_O', 'F_PA', 'F_PL', 'F_RB', 'F_RF', 'F_RU', 'F_SB', 'F_SH', 'F_SS', 'F_SX', 'F_TU', 'F_UB', 'F_VW', 'F_VX', 'F_XX', 'F_YM', 'F_ZQ']\n",
      "49\n"
     ]
    }
   ],
   "source": [
    "# Lag-1 ACF is significant\n",
    "significant_assets_lag1 = acf_pvalues_table[acf_pvalues_table[1] < 0.05].index.tolist()\n",
    "print(sorted(significant_assets_lag1))\n",
    "print(len(significant_assets_lag1))"
   ]
  },
  {
   "cell_type": "code",
   "execution_count": 16,
   "id": "specialized-heading",
   "metadata": {},
   "outputs": [
    {
     "name": "stdout",
     "output_type": "stream",
     "text": [
      "['F_EB', 'F_ED', 'F_ES', 'F_F', 'F_LQ', 'F_LU', 'F_LX', 'F_NQ', 'F_O', 'F_RF', 'F_SB', 'F_SS', 'F_VX']\n",
      "13\n"
     ]
    }
   ],
   "source": [
    "# Both lag-1 & lag-2 ACF are significant\n",
    "significant_assets_lag1_lag2 = \\\n",
    "acf_pvalues_table[(acf_pvalues_table[1] < 0.05) & (acf_pvalues_table[2] < 0.05)].index.tolist()\n",
    "print(sorted(significant_assets_lag1_lag2))\n",
    "print(len(significant_assets_lag1_lag2))"
   ]
  },
  {
   "cell_type": "code",
   "execution_count": null,
   "id": "dress-letters",
   "metadata": {},
   "outputs": [],
   "source": []
  }
 ],
 "metadata": {
  "kernelspec": {
   "display_name": "Python 3",
   "language": "python",
   "name": "python3"
  },
  "language_info": {
   "codemirror_mode": {
    "name": "ipython",
    "version": 3
   },
   "file_extension": ".py",
   "mimetype": "text/x-python",
   "name": "python",
   "nbconvert_exporter": "python",
   "pygments_lexer": "ipython3",
   "version": "3.7.10"
  }
 },
 "nbformat": 4,
 "nbformat_minor": 5
}
