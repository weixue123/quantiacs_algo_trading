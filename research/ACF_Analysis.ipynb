{
 "cells": [
  {
   "cell_type": "markdown",
   "id": "organized-economics",
   "metadata": {},
   "source": [
    "## 1. Import Libraries"
   ]
  },
  {
   "cell_type": "code",
   "execution_count": 1,
   "id": "moved-minister",
   "metadata": {},
   "outputs": [],
   "source": [
    "import os\n",
    "from pathlib import Path\n",
    "from typing import Tuple\n",
    "\n",
    "import numpy as np\n",
    "import pandas as pd\n",
    "from scipy.stats.stats import pearsonr"
   ]
  },
  {
   "cell_type": "code",
   "execution_count": 2,
   "id": "scheduled-valve",
   "metadata": {},
   "outputs": [],
   "source": [
    "os.chdir(\"/Users/weixue/Desktop/BT4013/Project/\")\n",
    "\n",
    "from data_processing.indicators import macd, rsi, atr\n",
    "from systems.systems_util import get_futures_list\n",
    "from utils.data_loader import load_raw_data"
   ]
  },
  {
   "cell_type": "markdown",
   "id": "earned-strategy",
   "metadata": {},
   "source": [
    "## 2. Define Helper Functions"
   ]
  },
  {
   "cell_type": "code",
   "execution_count": 3,
   "id": "martial-signal",
   "metadata": {},
   "outputs": [],
   "source": [
    "def align_index(series_1, series_2) -> Tuple[pd.Series, pd.Series]:\n",
    "    \"\"\"\n",
    "    Aligns the datetime index of the two input series.\n",
    "    \"\"\"\n",
    "    union_index = series_1.index.intersection(series_2.index)\n",
    "    return series_1.loc[union_index], series_2.loc[union_index]"
   ]
  },
  {
   "cell_type": "code",
   "execution_count": 4,
   "id": "adequate-notice",
   "metadata": {},
   "outputs": [],
   "source": [
    "def compute_acf_pvalues(series: pd.Series, ticker: str):\n",
    "    \"\"\"\n",
    "    Takes in a time series and computes the p-values of its autocorrelations.\n",
    "    Returns a series of p-values with the indexes representing the number of time lags.\n",
    "    \"\"\"\n",
    "    lag_to_p_value_map = {}\n",
    "    \n",
    "    for lag in range(1, 10):\n",
    "        lagged_series = series.shift(lag).dropna()\n",
    "        lagged_series, original_series = align_index(lagged_series, series.copy())\n",
    "        p_value = pearsonr(lagged_series, original_series)[1]\n",
    "        lag_to_p_value_map[lag] = round(p_value, 3)\n",
    "        \n",
    "    correlation_series = pd.Series(lag_to_p_value_map)\n",
    "    correlation_series.name = ticker\n",
    "    \n",
    "    return correlation_series"
   ]
  },
  {
   "cell_type": "markdown",
   "id": "artificial-advancement",
   "metadata": {},
   "source": [
    "## 3. Compute ACFs of Daily Returns for Each Asset"
   ]
  },
  {
   "cell_type": "code",
   "execution_count": 5,
   "id": "tested-pierce",
   "metadata": {},
   "outputs": [],
   "source": [
    "futures_list = get_futures_list()"
   ]
  },
  {
   "cell_type": "code",
   "execution_count": 6,
   "id": "reserved-juvenile",
   "metadata": {},
   "outputs": [
    {
     "data": {
      "text/html": [
       "<div>\n",
       "<style scoped>\n",
       "    .dataframe tbody tr th:only-of-type {\n",
       "        vertical-align: middle;\n",
       "    }\n",
       "\n",
       "    .dataframe tbody tr th {\n",
       "        vertical-align: top;\n",
       "    }\n",
       "\n",
       "    .dataframe thead th {\n",
       "        text-align: right;\n",
       "    }\n",
       "</style>\n",
       "<table border=\"1\" class=\"dataframe\">\n",
       "  <thead>\n",
       "    <tr style=\"text-align: right;\">\n",
       "      <th>TIME LAG</th>\n",
       "      <th>1</th>\n",
       "      <th>2</th>\n",
       "      <th>3</th>\n",
       "      <th>4</th>\n",
       "      <th>5</th>\n",
       "      <th>6</th>\n",
       "      <th>7</th>\n",
       "      <th>8</th>\n",
       "      <th>9</th>\n",
       "    </tr>\n",
       "    <tr>\n",
       "      <th>ASSETS</th>\n",
       "      <th></th>\n",
       "      <th></th>\n",
       "      <th></th>\n",
       "      <th></th>\n",
       "      <th></th>\n",
       "      <th></th>\n",
       "      <th></th>\n",
       "      <th></th>\n",
       "      <th></th>\n",
       "    </tr>\n",
       "  </thead>\n",
       "  <tbody>\n",
       "    <tr>\n",
       "      <th>F_AD</th>\n",
       "      <td>0.041</td>\n",
       "      <td>0.547</td>\n",
       "      <td>0.016</td>\n",
       "      <td>0.080</td>\n",
       "      <td>0.049</td>\n",
       "      <td>0.027</td>\n",
       "      <td>0.283</td>\n",
       "      <td>0.354</td>\n",
       "      <td>0.499</td>\n",
       "    </tr>\n",
       "    <tr>\n",
       "      <th>F_BO</th>\n",
       "      <td>0.071</td>\n",
       "      <td>0.625</td>\n",
       "      <td>0.426</td>\n",
       "      <td>0.892</td>\n",
       "      <td>0.414</td>\n",
       "      <td>0.072</td>\n",
       "      <td>0.443</td>\n",
       "      <td>0.328</td>\n",
       "      <td>0.745</td>\n",
       "    </tr>\n",
       "    <tr>\n",
       "      <th>F_BP</th>\n",
       "      <td>0.076</td>\n",
       "      <td>0.677</td>\n",
       "      <td>0.611</td>\n",
       "      <td>0.891</td>\n",
       "      <td>0.534</td>\n",
       "      <td>0.768</td>\n",
       "      <td>0.801</td>\n",
       "      <td>0.759</td>\n",
       "      <td>0.400</td>\n",
       "    </tr>\n",
       "    <tr>\n",
       "      <th>F_C</th>\n",
       "      <td>0.005</td>\n",
       "      <td>0.066</td>\n",
       "      <td>0.821</td>\n",
       "      <td>0.567</td>\n",
       "      <td>0.388</td>\n",
       "      <td>0.037</td>\n",
       "      <td>0.997</td>\n",
       "      <td>0.980</td>\n",
       "      <td>0.083</td>\n",
       "    </tr>\n",
       "    <tr>\n",
       "      <th>F_CC</th>\n",
       "      <td>0.207</td>\n",
       "      <td>0.235</td>\n",
       "      <td>0.422</td>\n",
       "      <td>0.907</td>\n",
       "      <td>0.643</td>\n",
       "      <td>0.629</td>\n",
       "      <td>0.821</td>\n",
       "      <td>0.934</td>\n",
       "      <td>0.654</td>\n",
       "    </tr>\n",
       "    <tr>\n",
       "      <th>...</th>\n",
       "      <td>...</td>\n",
       "      <td>...</td>\n",
       "      <td>...</td>\n",
       "      <td>...</td>\n",
       "      <td>...</td>\n",
       "      <td>...</td>\n",
       "      <td>...</td>\n",
       "      <td>...</td>\n",
       "      <td>...</td>\n",
       "    </tr>\n",
       "    <tr>\n",
       "      <th>F_VF</th>\n",
       "      <td>0.488</td>\n",
       "      <td>0.434</td>\n",
       "      <td>0.027</td>\n",
       "      <td>0.232</td>\n",
       "      <td>0.948</td>\n",
       "      <td>0.130</td>\n",
       "      <td>0.211</td>\n",
       "      <td>0.867</td>\n",
       "      <td>0.770</td>\n",
       "    </tr>\n",
       "    <tr>\n",
       "      <th>F_VT</th>\n",
       "      <td>0.248</td>\n",
       "      <td>0.114</td>\n",
       "      <td>0.007</td>\n",
       "      <td>0.106</td>\n",
       "      <td>0.697</td>\n",
       "      <td>0.559</td>\n",
       "      <td>0.023</td>\n",
       "      <td>0.242</td>\n",
       "      <td>0.784</td>\n",
       "    </tr>\n",
       "    <tr>\n",
       "      <th>F_VW</th>\n",
       "      <td>0.000</td>\n",
       "      <td>0.226</td>\n",
       "      <td>0.000</td>\n",
       "      <td>0.766</td>\n",
       "      <td>0.561</td>\n",
       "      <td>0.068</td>\n",
       "      <td>0.874</td>\n",
       "      <td>0.473</td>\n",
       "      <td>0.220</td>\n",
       "    </tr>\n",
       "    <tr>\n",
       "      <th>F_GD</th>\n",
       "      <td>0.000</td>\n",
       "      <td>0.621</td>\n",
       "      <td>0.902</td>\n",
       "      <td>0.505</td>\n",
       "      <td>0.943</td>\n",
       "      <td>0.235</td>\n",
       "      <td>0.019</td>\n",
       "      <td>0.736</td>\n",
       "      <td>0.683</td>\n",
       "    </tr>\n",
       "    <tr>\n",
       "      <th>F_F</th>\n",
       "      <td>0.000</td>\n",
       "      <td>0.033</td>\n",
       "      <td>0.000</td>\n",
       "      <td>0.157</td>\n",
       "      <td>0.037</td>\n",
       "      <td>0.221</td>\n",
       "      <td>0.982</td>\n",
       "      <td>0.104</td>\n",
       "      <td>0.924</td>\n",
       "    </tr>\n",
       "  </tbody>\n",
       "</table>\n",
       "<p>88 rows × 9 columns</p>\n",
       "</div>"
      ],
      "text/plain": [
       "TIME LAG      1      2      3      4      5      6      7      8      9\n",
       "ASSETS                                                                 \n",
       "F_AD      0.041  0.547  0.016  0.080  0.049  0.027  0.283  0.354  0.499\n",
       "F_BO      0.071  0.625  0.426  0.892  0.414  0.072  0.443  0.328  0.745\n",
       "F_BP      0.076  0.677  0.611  0.891  0.534  0.768  0.801  0.759  0.400\n",
       "F_C       0.005  0.066  0.821  0.567  0.388  0.037  0.997  0.980  0.083\n",
       "F_CC      0.207  0.235  0.422  0.907  0.643  0.629  0.821  0.934  0.654\n",
       "...         ...    ...    ...    ...    ...    ...    ...    ...    ...\n",
       "F_VF      0.488  0.434  0.027  0.232  0.948  0.130  0.211  0.867  0.770\n",
       "F_VT      0.248  0.114  0.007  0.106  0.697  0.559  0.023  0.242  0.784\n",
       "F_VW      0.000  0.226  0.000  0.766  0.561  0.068  0.874  0.473  0.220\n",
       "F_GD      0.000  0.621  0.902  0.505  0.943  0.235  0.019  0.736  0.683\n",
       "F_F       0.000  0.033  0.000  0.157  0.037  0.221  0.982  0.104  0.924\n",
       "\n",
       "[88 rows x 9 columns]"
      ]
     },
     "execution_count": 6,
     "metadata": {},
     "output_type": "execute_result"
    }
   ],
   "source": [
    "result = []\n",
    "\n",
    "for ticker in futures_list:\n",
    "    data = load_raw_data(ticker)\n",
    "    data = data[:\"2020-12-31\"]\n",
    "    close_price_diff = data[\"CLOSE\"].pct_change()\n",
    "    acf_pvalues = compute_acf_pvalues(series=close_price_diff, ticker=ticker)\n",
    "    result.append(acf_pvalues)\n",
    "\n",
    "acf_pvalues_table = pd.DataFrame(result)\n",
    "acf_pvalues_table.index.name = \"ASSETS\"\n",
    "acf_pvalues_table.columns.name = \"TIME LAG\"\n",
    "\n",
    "acf_pvalues_table"
   ]
  },
  {
   "cell_type": "markdown",
   "id": "apart-speed",
   "metadata": {},
   "source": [
    "## 4. Keep Only Assets with Statistically Significant Autocorrelation"
   ]
  },
  {
   "cell_type": "code",
   "execution_count": 7,
   "id": "consecutive-banks",
   "metadata": {},
   "outputs": [
    {
     "name": "stdout",
     "output_type": "stream",
     "text": [
      "['F_AD', 'F_AH', 'F_AX', 'F_BG', 'F_C', 'F_CA', 'F_DL', 'F_DX', 'F_DZ', 'F_EB', 'F_ED', 'F_ES', 'F_F', 'F_FC', 'F_FL', 'F_FM', 'F_FY', 'F_GD', 'F_GX', 'F_HG', 'F_HP', 'F_LB', 'F_LC', 'F_LQ', 'F_LR', 'F_LU', 'F_LX', 'F_MD', 'F_NG', 'F_NQ', 'F_NR', 'F_NY', 'F_O', 'F_PA', 'F_PL', 'F_RB', 'F_RF', 'F_RU', 'F_SB', 'F_SH', 'F_SS', 'F_SX', 'F_TU', 'F_UB', 'F_VW', 'F_VX', 'F_XX', 'F_YM', 'F_ZQ']\n",
      "49\n"
     ]
    }
   ],
   "source": [
    "# Lag-1 ACF is significant\n",
    "significant_assets_lag1 = acf_pvalues_table[acf_pvalues_table[1] < 0.05].index.tolist()\n",
    "print(sorted(significant_assets_lag1))\n",
    "print(len(significant_assets_lag1))"
   ]
  },
  {
   "cell_type": "code",
   "execution_count": 8,
   "id": "specialized-heading",
   "metadata": {},
   "outputs": [
    {
     "name": "stdout",
     "output_type": "stream",
     "text": [
      "['F_EB', 'F_ED', 'F_ES', 'F_F', 'F_LQ', 'F_LU', 'F_LX', 'F_NQ', 'F_O', 'F_RF', 'F_SB', 'F_SS', 'F_VX']\n",
      "13\n"
     ]
    }
   ],
   "source": [
    "# Both lag-1 & lag-2 ACF are significant\n",
    "significant_assets_lag1_lag2 = \\\n",
    "acf_pvalues_table[(acf_pvalues_table[1] < 0.05) & (acf_pvalues_table[2] < 0.05)].index.tolist()\n",
    "print(sorted(significant_assets_lag1_lag2))\n",
    "print(len(significant_assets_lag1_lag2))"
   ]
  },
  {
   "cell_type": "code",
   "execution_count": 9,
   "id": "dress-letters",
   "metadata": {},
   "outputs": [
    {
     "name": "stdout",
     "output_type": "stream",
     "text": [
      "['F_ED', 'F_F', 'F_LX', 'F_SB']\n",
      "4\n"
     ]
    }
   ],
   "source": [
    "# All lag-1, lag-2, and lag-3 ACF are significant\n",
    "significant_assets_lag1_lag2_lag3 = \\\n",
    "acf_pvalues_table[(acf_pvalues_table[1] < 0.05) & (acf_pvalues_table[2] < 0.05) & \\\n",
    "                  (acf_pvalues_table[3] < 0.05)].index.tolist()\n",
    "print(sorted(significant_assets_lag1_lag2_lag3))\n",
    "print(len(significant_assets_lag1_lag2_lag3))"
   ]
  }
 ],
 "metadata": {
  "kernelspec": {
   "display_name": "Python 3",
   "language": "python",
   "name": "python3"
  },
  "language_info": {
   "codemirror_mode": {
    "name": "ipython",
    "version": 3
   },
   "file_extension": ".py",
   "mimetype": "text/x-python",
   "name": "python",
   "nbconvert_exporter": "python",
   "pygments_lexer": "ipython3",
   "version": "3.7.10"
  }
 },
 "nbformat": 4,
 "nbformat_minor": 5
}
