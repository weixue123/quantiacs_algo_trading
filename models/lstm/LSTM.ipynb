{
 "cells": [
  {
   "cell_type": "markdown",
   "id": "derived-custody",
   "metadata": {},
   "source": [
    "## 1. Import Libraries"
   ]
  },
  {
   "cell_type": "code",
   "execution_count": 1,
   "id": "homeless-homework",
   "metadata": {},
   "outputs": [],
   "source": [
    "import os\n",
    "\n",
    "import pandas as pd"
   ]
  },
  {
   "cell_type": "code",
   "execution_count": 2,
   "id": "existing-network",
   "metadata": {},
   "outputs": [],
   "source": [
    "os.chdir(\"/Users/weixue/Desktop/BT4013/Project/\")\n",
    "\n",
    "from data_processing.data_processor import DataProcessor\n",
    "from utils.data_loader import load_processed_data\n",
    "from systems.settings import get_futures_list"
   ]
  },
  {
   "cell_type": "markdown",
   "id": "informal-motivation",
   "metadata": {},
   "source": [
    "## 2. Load Data"
   ]
  },
  {
   "cell_type": "code",
   "execution_count": 3,
   "id": "sitting-lodge",
   "metadata": {},
   "outputs": [
    {
     "name": "stdout",
     "output_type": "stream",
     "text": [
      "['F_AD', 'F_C', 'F_DX', 'F_ED', 'F_ES']\n"
     ]
    }
   ],
   "source": [
    "futures_list = get_futures_list(filter_insignificant_lag_1_acf=True)\n",
    "print(futures_list[:5])"
   ]
  },
  {
   "cell_type": "code",
   "execution_count": 4,
   "id": "optional-bandwidth",
   "metadata": {},
   "outputs": [],
   "source": [
    "# Maps ticker name to its processed dataframe\n",
    "ticker_data_map = {}\n",
    "\n",
    "for ticker in futures_list:\n",
    "    data = load_processed_data(ticker)\n",
    "    data = data.loc[:\"2020-12-31\"]\n",
    "    data = data.iloc[:-1]  # Drop last row because it would have had Jan 2021's first day's change in price\n",
    "    \n",
    "    ticker_data_map[ticker] = data"
   ]
  },
  {
   "cell_type": "markdown",
   "id": "tough-bicycle",
   "metadata": {},
   "source": [
    "## 3. Train Model ..."
   ]
  },
  {
   "cell_type": "code",
   "execution_count": 5,
   "id": "brazilian-jonathan",
   "metadata": {},
   "outputs": [
    {
     "data": {
      "text/html": [
       "<div>\n",
       "<style scoped>\n",
       "    .dataframe tbody tr th:only-of-type {\n",
       "        vertical-align: middle;\n",
       "    }\n",
       "\n",
       "    .dataframe tbody tr th {\n",
       "        vertical-align: top;\n",
       "    }\n",
       "\n",
       "    .dataframe thead th {\n",
       "        text-align: right;\n",
       "    }\n",
       "</style>\n",
       "<table border=\"1\" class=\"dataframe\">\n",
       "  <thead>\n",
       "    <tr style=\"text-align: right;\">\n",
       "      <th></th>\n",
       "      <th>OPEN</th>\n",
       "      <th>HIGH</th>\n",
       "      <th>LOW</th>\n",
       "      <th>CLOSE</th>\n",
       "      <th>VOL</th>\n",
       "      <th>MACD</th>\n",
       "      <th>RSI</th>\n",
       "      <th>ATR</th>\n",
       "      <th>DAILY RETURNS</th>\n",
       "      <th>ROLLING VOLATILITY</th>\n",
       "      <th>LAG 1 CLOSE</th>\n",
       "      <th>LAG 2 CLOSE</th>\n",
       "      <th>LABELS</th>\n",
       "    </tr>\n",
       "    <tr>\n",
       "      <th>DATE</th>\n",
       "      <th></th>\n",
       "      <th></th>\n",
       "      <th></th>\n",
       "      <th></th>\n",
       "      <th></th>\n",
       "      <th></th>\n",
       "      <th></th>\n",
       "      <th></th>\n",
       "      <th></th>\n",
       "      <th></th>\n",
       "      <th></th>\n",
       "      <th></th>\n",
       "      <th></th>\n",
       "    </tr>\n",
       "  </thead>\n",
       "  <tbody>\n",
       "    <tr>\n",
       "      <th>1990-02-06</th>\n",
       "      <td>76040.0</td>\n",
       "      <td>76100.0</td>\n",
       "      <td>75840.0</td>\n",
       "      <td>75880.0</td>\n",
       "      <td>250</td>\n",
       "      <td>-535.259922</td>\n",
       "      <td>40.682487</td>\n",
       "      <td>665.000000</td>\n",
       "      <td>-0.000132</td>\n",
       "      <td>0.007428</td>\n",
       "      <td>75890.0</td>\n",
       "      <td>76670.0</td>\n",
       "      <td>-1.0</td>\n",
       "    </tr>\n",
       "    <tr>\n",
       "      <th>1990-02-07</th>\n",
       "      <td>75280.0</td>\n",
       "      <td>75360.0</td>\n",
       "      <td>74740.0</td>\n",
       "      <td>75110.0</td>\n",
       "      <td>389</td>\n",
       "      <td>-623.525347</td>\n",
       "      <td>36.286020</td>\n",
       "      <td>723.571429</td>\n",
       "      <td>-0.010148</td>\n",
       "      <td>0.007651</td>\n",
       "      <td>75880.0</td>\n",
       "      <td>75890.0</td>\n",
       "      <td>-1.0</td>\n",
       "    </tr>\n",
       "    <tr>\n",
       "      <th>1990-02-08</th>\n",
       "      <td>74520.0</td>\n",
       "      <td>74950.0</td>\n",
       "      <td>74510.0</td>\n",
       "      <td>74790.0</td>\n",
       "      <td>464</td>\n",
       "      <td>-672.647983</td>\n",
       "      <td>34.595614</td>\n",
       "      <td>746.428571</td>\n",
       "      <td>-0.004260</td>\n",
       "      <td>0.007658</td>\n",
       "      <td>75110.0</td>\n",
       "      <td>75880.0</td>\n",
       "      <td>-1.0</td>\n",
       "    </tr>\n",
       "    <tr>\n",
       "      <th>1990-02-09</th>\n",
       "      <td>74600.0</td>\n",
       "      <td>74630.0</td>\n",
       "      <td>74230.0</td>\n",
       "      <td>74300.0</td>\n",
       "      <td>528</td>\n",
       "      <td>-717.795035</td>\n",
       "      <td>32.117727</td>\n",
       "      <td>769.285714</td>\n",
       "      <td>-0.006552</td>\n",
       "      <td>0.007639</td>\n",
       "      <td>74790.0</td>\n",
       "      <td>75110.0</td>\n",
       "      <td>1.0</td>\n",
       "    </tr>\n",
       "    <tr>\n",
       "      <th>1990-02-12</th>\n",
       "      <td>74550.0</td>\n",
       "      <td>74870.0</td>\n",
       "      <td>74550.0</td>\n",
       "      <td>74740.0</td>\n",
       "      <td>343</td>\n",
       "      <td>-693.179495</td>\n",
       "      <td>36.542008</td>\n",
       "      <td>662.142857</td>\n",
       "      <td>0.005922</td>\n",
       "      <td>0.007675</td>\n",
       "      <td>74300.0</td>\n",
       "      <td>74790.0</td>\n",
       "      <td>-1.0</td>\n",
       "    </tr>\n",
       "  </tbody>\n",
       "</table>\n",
       "</div>"
      ],
      "text/plain": [
       "               OPEN     HIGH      LOW    CLOSE  VOL        MACD        RSI  \\\n",
       "DATE                                                                         \n",
       "1990-02-06  76040.0  76100.0  75840.0  75880.0  250 -535.259922  40.682487   \n",
       "1990-02-07  75280.0  75360.0  74740.0  75110.0  389 -623.525347  36.286020   \n",
       "1990-02-08  74520.0  74950.0  74510.0  74790.0  464 -672.647983  34.595614   \n",
       "1990-02-09  74600.0  74630.0  74230.0  74300.0  528 -717.795035  32.117727   \n",
       "1990-02-12  74550.0  74870.0  74550.0  74740.0  343 -693.179495  36.542008   \n",
       "\n",
       "                   ATR  DAILY RETURNS  ROLLING VOLATILITY  LAG 1 CLOSE  \\\n",
       "DATE                                                                     \n",
       "1990-02-06  665.000000      -0.000132            0.007428      75890.0   \n",
       "1990-02-07  723.571429      -0.010148            0.007651      75880.0   \n",
       "1990-02-08  746.428571      -0.004260            0.007658      75110.0   \n",
       "1990-02-09  769.285714      -0.006552            0.007639      74790.0   \n",
       "1990-02-12  662.142857       0.005922            0.007675      74300.0   \n",
       "\n",
       "            LAG 2 CLOSE  LABELS  \n",
       "DATE                             \n",
       "1990-02-06      76670.0    -1.0  \n",
       "1990-02-07      75890.0    -1.0  \n",
       "1990-02-08      75880.0    -1.0  \n",
       "1990-02-09      75110.0     1.0  \n",
       "1990-02-12      74790.0    -1.0  "
      ]
     },
     "execution_count": 5,
     "metadata": {},
     "output_type": "execute_result"
    }
   ],
   "source": [
    "ticker_data_map[\"F_AD\"].head()"
   ]
  },
  {
   "cell_type": "code",
   "execution_count": null,
   "id": "entire-telling",
   "metadata": {},
   "outputs": [],
   "source": []
  }
 ],
 "metadata": {
  "kernelspec": {
   "display_name": "Python 3",
   "language": "python",
   "name": "python3"
  },
  "language_info": {
   "codemirror_mode": {
    "name": "ipython",
    "version": 3
   },
   "file_extension": ".py",
   "mimetype": "text/x-python",
   "name": "python",
   "nbconvert_exporter": "python",
   "pygments_lexer": "ipython3",
   "version": "3.7.10"
  }
 },
 "nbformat": 4,
 "nbformat_minor": 5
}
